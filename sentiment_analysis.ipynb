{
  "nbformat": 4,
  "nbformat_minor": 0,
  "metadata": {
    "colab": {
      "name": "sentiment_analysis.ipynb",
      "provenance": []
    },
    "kernelspec": {
      "name": "python3",
      "display_name": "Python 3"
    }
  },
  "cells": [
    {
      "cell_type": "code",
      "metadata": {
        "colab": {
          "base_uri": "https://localhost:8080/"
        },
        "id": "8Of68IAhqGIz",
        "outputId": "8103ed08-4778-47ff-d9ad-06d7aa65944c"
      },
      "source": [
        "!pip install wordcloud"
      ],
      "execution_count": null,
      "outputs": [
        {
          "output_type": "stream",
          "text": [
            "Requirement already satisfied: wordcloud in /usr/local/lib/python3.6/dist-packages (1.5.0)\n",
            "Requirement already satisfied: pillow in /usr/local/lib/python3.6/dist-packages (from wordcloud) (7.0.0)\n",
            "Requirement already satisfied: numpy>=1.6.1 in /usr/local/lib/python3.6/dist-packages (from wordcloud) (1.18.5)\n"
          ],
          "name": "stdout"
        }
      ]
    },
    {
      "cell_type": "code",
      "metadata": {
        "colab": {
          "base_uri": "https://localhost:8080/"
        },
        "id": "NuvSx4JeqRP7",
        "outputId": "b57628da-57b8-43a0-eba2-2e19a0bdceea"
      },
      "source": [
        "import numpy as np\n",
        "import tensorflow as tf\n",
        "from tensorflow import keras\n",
        "import pandas as pd\n",
        "import seaborn as sns\n",
        "from pylab import rcParams\n",
        "import string\n",
        "import re\n",
        "import matplotlib.pyplot as plt\n",
        "import math\n",
        "from matplotlib import rc\n",
        "from google.colab import drive\n",
        "from sklearn.model_selection import train_test_split, GridSearchCV\n",
        "from collections import Counter, defaultdict\n",
        "from bs4 import BeautifulSoup\n",
        "from sklearn.metrics import accuracy_score\n",
        "from sklearn.metrics import classification_report, confusion_matrix\n",
        "from sklearn.metrics import plot_confusion_matrix\n",
        "import nltk\n",
        "from nltk.corpus import stopwords\n",
        "from wordcloud import WordCloud\n",
        "from sklearn.metrics import classification_report\n",
        "\n",
        "%matplotlib inline\n",
        "\n",
        "sns.set(style='whitegrid', palette='muted', font_scale=1.5)\n",
        "\n",
        "rcParams['figure.figsize'] = 14, 8\n",
        "\n",
        "RANDOM_SEED = 42\n",
        "\n",
        "np.random.seed(RANDOM_SEED)\n",
        "nltk.download('stopwords')"
      ],
      "execution_count": null,
      "outputs": [
        {
          "output_type": "stream",
          "text": [
            "[nltk_data] Downloading package stopwords to /root/nltk_data...\n",
            "[nltk_data]   Package stopwords is already up-to-date!\n"
          ],
          "name": "stdout"
        },
        {
          "output_type": "execute_result",
          "data": {
            "text/plain": [
              "True"
            ]
          },
          "metadata": {
            "tags": []
          },
          "execution_count": 16
        }
      ]
    },
    {
      "cell_type": "code",
      "metadata": {
        "colab": {
          "base_uri": "https://localhost:8080/"
        },
        "id": "HG45pEEOqnEs",
        "outputId": "b44520ce-9763-43be-f53a-b0467bcb2308"
      },
      "source": [
        "drive.mount(\"/content/drive\")"
      ],
      "execution_count": null,
      "outputs": [
        {
          "output_type": "stream",
          "text": [
            "Mounted at /content/drive\n"
          ],
          "name": "stdout"
        }
      ]
    },
    {
      "cell_type": "code",
      "metadata": {
        "id": "n8J-orXfq2lZ"
      },
      "source": [
        "train = pd.read_csv(\"/content/drive/My Drive/Colab Notebooks/train1.csv\", delimiter=\",\", encoding='cp1252')\n",
        "test = pd.read_csv(\"/content/drive/My Drive/Colab Notebooks/test.csv\", delimiter=\",\", encoding='cp1252')"
      ],
      "execution_count": null,
      "outputs": []
    },
    {
      "cell_type": "code",
      "metadata": {
        "colab": {
          "base_uri": "https://localhost:8080/",
          "height": 201
        },
        "id": "fIcyiRy1szyF",
        "outputId": "5bbe975b-9f89-4398-85e9-ac705ea65d23"
      },
      "source": [
        "train.head()"
      ],
      "execution_count": null,
      "outputs": [
        {
          "output_type": "execute_result",
          "data": {
            "text/html": [
              "<div>\n",
              "<style scoped>\n",
              "    .dataframe tbody tr th:only-of-type {\n",
              "        vertical-align: middle;\n",
              "    }\n",
              "\n",
              "    .dataframe tbody tr th {\n",
              "        vertical-align: top;\n",
              "    }\n",
              "\n",
              "    .dataframe thead th {\n",
              "        text-align: right;\n",
              "    }\n",
              "</style>\n",
              "<table border=\"1\" class=\"dataframe\">\n",
              "  <thead>\n",
              "    <tr style=\"text-align: right;\">\n",
              "      <th></th>\n",
              "      <th>sentiment</th>\n",
              "      <th>review</th>\n",
              "    </tr>\n",
              "  </thead>\n",
              "  <tbody>\n",
              "    <tr>\n",
              "      <th>0</th>\n",
              "      <td>positive</td>\n",
              "      <td>I’ve seen a lot of bad reviews for this phone ...</td>\n",
              "    </tr>\n",
              "    <tr>\n",
              "      <th>1</th>\n",
              "      <td>positive</td>\n",
              "      <td>This phone looks and performs great like it's ...</td>\n",
              "    </tr>\n",
              "    <tr>\n",
              "      <th>2</th>\n",
              "      <td>positive</td>\n",
              "      <td>Don't listen to bad reviews! My phone arrived ...</td>\n",
              "    </tr>\n",
              "    <tr>\n",
              "      <th>3</th>\n",
              "      <td>positive</td>\n",
              "      <td>Love this phone! I am so glad I bought a refur...</td>\n",
              "    </tr>\n",
              "    <tr>\n",
              "      <th>4</th>\n",
              "      <td>positive</td>\n",
              "      <td>First, seller did a great job and I think I go...</td>\n",
              "    </tr>\n",
              "  </tbody>\n",
              "</table>\n",
              "</div>"
            ],
            "text/plain": [
              "  sentiment                                             review\n",
              "0  positive  I’ve seen a lot of bad reviews for this phone ...\n",
              "1  positive  This phone looks and performs great like it's ...\n",
              "2  positive  Don't listen to bad reviews! My phone arrived ...\n",
              "3  positive  Love this phone! I am so glad I bought a refur...\n",
              "4  positive  First, seller did a great job and I think I go..."
            ]
          },
          "metadata": {
            "tags": []
          },
          "execution_count": 6
        }
      ]
    },
    {
      "cell_type": "code",
      "metadata": {
        "colab": {
          "base_uri": "https://localhost:8080/",
          "height": 513
        },
        "id": "sAgRQ4yQzq3h",
        "outputId": "04879503-73da-4e9f-d095-9e8e42ddf943"
      },
      "source": [
        "f = sns.countplot(x='sentiment', data=train)\n",
        "f.set_title(\"Sentiment distribution\")\n",
        "f.set_xticklabels(['Negative', 'Positive'])\n",
        "plt.xlabel(\"\");"
      ],
      "execution_count": null,
      "outputs": [
        {
          "output_type": "display_data",
          "data": {
            "image/png": "[encoded data removed]",
            "text/plain": [
              "<Figure size 1008x576 with 1 Axes>"
            ]
          },
          "metadata": {
            "tags": []
          }
        }
      ]
    },
    {
      "cell_type": "code",
      "metadata": {
        "id": "xCxXywp7uE0S"
      },
      "source": [
        "class Tokenizer:\n",
        "  \n",
        "  def clean(self, text):\n",
        "      no_html = BeautifulSoup(text).get_text()\n",
        "      clean = re.sub(\"[^a-z\\s]+\", \" \", no_html, flags=re.IGNORECASE)\n",
        "      return re.sub(\"(\\s+)\", \" \", clean)\n",
        "\n",
        " \n",
        "  def tokenize(self, text):\n",
        "      clean = self.clean(text).lower()\n",
        "      stopwords_en = stopwords.words(\"english\")\n",
        "      return [w for w in re.split(\"\\W+\", clean) if not w in stopwords_en]"
      ],
      "execution_count": null,
      "outputs": []
    },
    {
      "cell_type": "code",
      "metadata": {
        "id": "f0Q8f-esuGka"
      },
      "source": [
        "class MultinomialNaiveBayes:\n",
        "  \n",
        "    def __init__(self, classes, tokenizer):\n",
        "      self.tokenizer = tokenizer\n",
        "      self.classes = classes\n",
        "      \n",
        "    def group_by_class(self, X, y):\n",
        "      data = dict()\n",
        "      for c in self.classes:\n",
        "        data[c] = X[np.where(y == c)]\n",
        "      return data\n",
        "           \n",
        "    def fit(self, X, y):\n",
        "        self.n_class_items = {}\n",
        "        self.log_class_priors = {}\n",
        "        self.word_counts = {}\n",
        "        self.vocab = set()\n",
        "\n",
        "        n = len(X)\n",
        "        \n",
        "        grouped_data = self.group_by_class(X, y)\n",
        "        \n",
        "        for c, data in grouped_data.items():\n",
        "          self.n_class_items[c] = len(data)\n",
        "          self.log_class_priors[c] = math.log(self.n_class_items[c] / n)\n",
        "          self.word_counts[c] = defaultdict(lambda: 0)\n",
        "          \n",
        "          for text in data:\n",
        "            counts = Counter(self.tokenizer.tokenize(text))\n",
        "            for word, count in counts.items():\n",
        "                if word not in self.vocab:\n",
        "                    self.vocab.add(word)\n",
        "\n",
        "                self.word_counts[c][word] += count\n",
        "                \n",
        "        return self\n",
        "      \n",
        "    def laplace_smoothing(self, word, text_class):\n",
        "      num = self.word_counts[text_class][word] + 1\n",
        "      denom = self.n_class_items[text_class] + len(self.vocab)\n",
        "      return math.log(num / denom)\n",
        "      \n",
        "    def predict(self, X):\n",
        "        result = []\n",
        "        for text in X:\n",
        "          \n",
        "          class_scores = {c: self.log_class_priors[c] for c in self.classes}\n",
        "\n",
        "          words = set(self.tokenizer.tokenize(text))\n",
        "          for word in words:\n",
        "              if word not in self.vocab: continue\n",
        "\n",
        "              for c in self.classes:\n",
        "                \n",
        "                log_w_given_c = self.laplace_smoothing(word, c)\n",
        "                class_scores[c] += log_w_given_c\n",
        "                \n",
        "          result.append(max(class_scores, key=class_scores.get))\n",
        "\n",
        "        return result"
      ],
      "execution_count": null,
      "outputs": []
    },
    {
      "cell_type": "code",
      "metadata": {
        "id": "4fNpYBSyuNjC"
      },
      "source": [
        "X = train['review'].values\n",
        "y = train['sentiment'].values\n",
        "  \n",
        "X_train, X_test, y_train, y_test = train_test_split(X, y, test_size=0.25, random_state=RANDOM_SEED)"
      ],
      "execution_count": null,
      "outputs": []
    },
    {
      "cell_type": "code",
      "metadata": {
        "id": "ZW_TK4HMzkwr"
      },
      "source": [
        "MNB = MultinomialNaiveBayes(\n",
        "    classes=np.unique(y), \n",
        "    tokenizer=Tokenizer()\n",
        ").fit(X_train, y_train)"
      ],
      "execution_count": null,
      "outputs": []
    },
    {
      "cell_type": "code",
      "metadata": {
        "id": "mKlySIplz2Wn"
      },
      "source": [
        "y_hat = MNB.predict(X_test)"
      ],
      "execution_count": null,
      "outputs": []
    },
    {
      "cell_type": "code",
      "metadata": {
        "colab": {
          "base_uri": "https://localhost:8080/"
        },
        "id": "EfV4_umrz5i1",
        "outputId": "ec1902f3-7127-4647-f54f-c4cff7e62576"
      },
      "source": [
        "accuracy_score(y_test, y_hat)"
      ],
      "execution_count": null,
      "outputs": [
        {
          "output_type": "execute_result",
          "data": {
            "text/plain": [
              "0.6666666666666666"
            ]
          },
          "metadata": {
            "tags": []
          },
          "execution_count": 39
        }
      ]
    },
    {
      "cell_type": "code",
      "metadata": {
        "colab": {
          "base_uri": "https://localhost:8080/"
        },
        "id": "-Nrjlah0z9ti",
        "outputId": "94770272-581f-4265-cc72-d4a36d36ed8d"
      },
      "source": [
        "print(classification_report(y_test, y_hat))"
      ],
      "execution_count": null,
      "outputs": [
        {
          "output_type": "stream",
          "text": [
            "              precision    recall  f1-score   support\n",
            "\n",
            "    negative       0.00      0.00      0.00         1\n",
            "    positive       0.67      1.00      0.80         2\n",
            "\n",
            "    accuracy                           0.67         3\n",
            "   macro avg       0.33      0.50      0.40         3\n",
            "weighted avg       0.44      0.67      0.53         3\n",
            "\n"
          ],
          "name": "stdout"
        },
        {
          "output_type": "stream",
          "text": [
            "/usr/local/lib/python3.6/dist-packages/sklearn/metrics/_classification.py:1272: UndefinedMetricWarning: Precision and F-score are ill-defined and being set to 0.0 in labels with no predicted samples. Use `zero_division` parameter to control this behavior.\n",
            "  _warn_prf(average, modifier, msg_start, len(result))\n"
          ],
          "name": "stderr"
        }
      ]
    }
  ]
}